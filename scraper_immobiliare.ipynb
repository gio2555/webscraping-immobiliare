{
 "cells": [
  {
   "cell_type": "code",
   "execution_count": 2,
   "metadata": {},
   "outputs": [],
   "source": [
    "import requests\n",
    "from bs4 import BeautifulSoup\n",
    "import pandas as pd\n",
    "pd.options.plotting.backend = \"plotly\"\n",
    "from time import sleep\n",
    "import random\n",
    "import panel as pn\n",
    "import plotly.express as px"
   ]
  },
  {
   "cell_type": "code",
   "execution_count": 47,
   "metadata": {},
   "outputs": [],
   "source": [
    "class Scraper:\n",
    "    def __init__(self, citta, tipologia, num_pages):\n",
    "        self.citta = citta\n",
    "        self.tipologia = tipologia\n",
    "        self.num_pages = num_pages\n",
    "        self.user_agent_list = [\n",
    "            'Mozilla/5.0 (Macintosh; Intel Mac OS X 10_15_5) AppleWebKit/605.1.15 (KHTML, like Gecko) Version/13.1.1 Safari/605.1.15',\n",
    "            'Mozilla/5.0 (Windows NT 10.0; Win64; x64; rv:77.0) Gecko/20100101 Firefox/77.0',\n",
    "            'Mozilla/5.0 (Macintosh; Intel Mac OS X 10_15_5) AppleWebKit/537.36 (KHTML, like Gecko) Chrome/83.0.4103.97 Safari/537.36',\n",
    "            'Mozilla/5.0 (Macintosh; Intel Mac OS X 10.15; rv:77.0) Gecko/20100101 Firefox/77.0',\n",
    "            'Mozilla/5.0 (Windows NT 10.0; Win64; x64) AppleWebKit/537.36 (KHTML, like Gecko) Chrome/83.0.4103.97 Safari/537.36'\n",
    "        ]\n",
    "\n",
    "    def scrape(self):\n",
    "        items= []\n",
    "        for page_num in range(self.num_pages):\n",
    "            print(f'Pagina Numero = {page_num}')\n",
    "            url = f'https://www.immobiliare.it/{self.tipologia}/{self.citta}/?criterio=rilevanza&pag={page_num}&noAste=1'\n",
    "            user_agent = random.choice(self.user_agent_list)\n",
    "            headers = {'User-Agent': user_agent}\n",
    "            page = requests.get(url,headers=headers)\n",
    "            soup = BeautifulSoup(page.content, \"html.parser\")\n",
    "            results = soup.find_all('div',{'class':'in-card nd-mediaObject nd-mediaObject--colToRow in-realEstateCard in-realEstateCard--interactive in-realEstateListCard'})\n",
    "            for result in results:\n",
    "                descrizione = result.find('a',{'class':'in-card__title'}).text.split(',')[0]\n",
    "                try:\n",
    "                    quartiere = result.find('a',{'class':'in-card__title'}).text.split(',')[1].strip()\n",
    "                except IndexError:\n",
    "                    quartiere= float(\"NaN\")\n",
    "                try:\n",
    "                    price= result.select_one('ul > li').text.replace('da','').replace('.','').replace('/mese','').split('€')[1].strip()\n",
    "                except IndexError:\n",
    "                    price= float(\"NaN\")\n",
    "                except AttributeError:\n",
    "                    price= float(\"NaN\")\n",
    "                try:\n",
    "                    locali = result.find('li',{'class':'nd-list__item in-feat__item'}).text\n",
    "                except AttributeError:\n",
    "                    locali= float(\"NaN\")\n",
    "                try:\n",
    "                    superficie = result.find('li',{'class':'nd-list__item in-feat__item','aria-label':'superficie'}).text.replace('m²','')\n",
    "                except AttributeError:\n",
    "                    superficie= float(\"NaN\")\n",
    "                try:\n",
    "                    piano = result.find('li',{'class':'nd-list__item in-feat__item','aria-label':'piano'}).text\n",
    "                except AttributeError:\n",
    "                    piano = float(\"NaN\")\n",
    "\n",
    "                items.append([descrizione,quartiere,price,locali,superficie,piano])\n",
    "        sleep(2)\n",
    "        df = pd.DataFrame(items,columns=['descrizione','quartiere','price','locali','superficie(m²)','piano'])\n",
    "        df_ = pd.DataFrame(df.loc[~df['descrizione'].str.contains('nuova costruzione'),['descrizione','quartiere','price','locali','superficie(m²)','piano']])\n",
    "        df_.loc[df['locali'].str.contains(' - ') | df['locali'].str.contains('m²') | df['piano'].str.contains(' - ') | df['quartiere'].str.contains('m²') | df['quartiere'].str.contains(r'\\d',regex=True) | df['price'].str.contains('%')] = float(\"NaN\")\n",
    "        df_['descrizione']=df_['descrizione'].astype('string')\n",
    "        df_['quartiere']=df_['quartiere'].astype('string')\n",
    "        df_['price']=pd.to_numeric(df_['price'])\n",
    "        df_['superficie(m²)']=pd.to_numeric(df_['superficie(m²)'])\n",
    "        \n",
    "        return df_\n",
    "\n",
    "    def visualize(self,df_):\n",
    "        locali_price = df_.groupby('locali').mean()['price'].sort_values(ascending=False).reset_index()\n",
    "        fig_locali_price = locali_price.plot.bar(x='locali', y='price')\n",
    "        \n",
    "        quartire_prezzo = df_.groupby('quartiere').mean()['price'].sort_values(ascending=False).reset_index()\n",
    "        fig_quartire_prezzo = quartire_prezzo.plot.bar(x='price', y='quartiere')\n",
    "\n",
    "        piano_price = df_.groupby('piano').mean()['price'].sort_values(ascending=False).reset_index()\n",
    "        fig_piano_price = piano_price.plot.bar(x='piano', y='price')\n",
    "\n",
    "        piano_superficie = df_.groupby('piano').mean()['superficie(m²)'].sort_values(ascending=False).reset_index()\n",
    "        fig_piano_superficie = piano_superficie.plot.bar(x='piano', y='superficie(m²)')\n",
    "\n",
    "        quartire_superficie = df_.groupby('quartiere').mean()['superficie(m²)'].sort_values(ascending=False).reset_index()\n",
    "        fig_quartire_superficie = quartire_superficie.plot.bar(x='superficie(m²)', y='quartiere')\n",
    "\n",
    "        dashboard = pn.Column(\n",
    "            pn.Row(fig_locali_price, fig_quartire_prezzo),\n",
    "            pn.Row(fig_piano_price, fig_piano_superficie),\n",
    "            pn.Row(fig_quartire_superficie)\n",
    "        )\n",
    "        \n",
    "        case_dash = pn.template.BootstrapTemplate(\n",
    "            title=f'Scraping Immobiliare.it nella città di {self.citta}',\n",
    "            main=dashboard,\n",
    "            accent_base_color=\"#88d8b0\",\n",
    "            header_background=\"#000000\"\n",
    "        )\n",
    "\n",
    "        return case_dash.show({'displayModeBar': True})\n",
    "\n",
    "    \n"
   ]
  },
  {
   "cell_type": "code",
   "execution_count": 49,
   "metadata": {},
   "outputs": [
    {
     "name": "stdout",
     "output_type": "stream",
     "text": [
      "Pagina Numero = 0\n",
      "Pagina Numero = 1\n",
      "Pagina Numero = 2\n",
      "Pagina Numero = 3\n",
      "Pagina Numero = 4\n"
     ]
    },
    {
     "name": "stderr",
     "output_type": "stream",
     "text": [
      "/var/folders/6s/652wf3dx5m3gv1122pwq9dxc0000gn/T/ipykernel_88116/467927991.py:62: FutureWarning:\n",
      "\n",
      "The default value of numeric_only in DataFrameGroupBy.mean is deprecated. In a future version, numeric_only will default to False. Either specify numeric_only or select only columns which should be valid for the function.\n",
      "\n",
      "/var/folders/6s/652wf3dx5m3gv1122pwq9dxc0000gn/T/ipykernel_88116/467927991.py:65: FutureWarning:\n",
      "\n",
      "The default value of numeric_only in DataFrameGroupBy.mean is deprecated. In a future version, numeric_only will default to False. Either specify numeric_only or select only columns which should be valid for the function.\n",
      "\n",
      "/var/folders/6s/652wf3dx5m3gv1122pwq9dxc0000gn/T/ipykernel_88116/467927991.py:68: FutureWarning:\n",
      "\n",
      "The default value of numeric_only in DataFrameGroupBy.mean is deprecated. In a future version, numeric_only will default to False. Either specify numeric_only or select only columns which should be valid for the function.\n",
      "\n",
      "/var/folders/6s/652wf3dx5m3gv1122pwq9dxc0000gn/T/ipykernel_88116/467927991.py:71: FutureWarning:\n",
      "\n",
      "The default value of numeric_only in DataFrameGroupBy.mean is deprecated. In a future version, numeric_only will default to False. Either specify numeric_only or select only columns which should be valid for the function.\n",
      "\n",
      "/var/folders/6s/652wf3dx5m3gv1122pwq9dxc0000gn/T/ipykernel_88116/467927991.py:74: FutureWarning:\n",
      "\n",
      "The default value of numeric_only in DataFrameGroupBy.mean is deprecated. In a future version, numeric_only will default to False. Either specify numeric_only or select only columns which should be valid for the function.\n",
      "\n",
      "WARNING:param.BootstrapTemplate00156: Setting non-parameter attribute accent_base_color=#88d8b0 using a mechanism intended only for parameters\n"
     ]
    },
    {
     "name": "stdout",
     "output_type": "stream",
     "text": [
      "Launching server at http://localhost:61332\n"
     ]
    },
    {
     "data": {
      "text/plain": [
       "<panel.io.server.Server at 0x7fe973387cd0>"
      ]
     },
     "execution_count": 49,
     "metadata": {},
     "output_type": "execute_result"
    }
   ],
   "source": [
    "#watch out for tipologia there are two option: affitto-case or vendita-case.\n",
    "#usually pages are 40 but may be more or less. check the immobiliare.it website\n",
    "scraper = Scraper(citta='roma', tipologia='affitto-case', num_pages=5)\n",
    "df = scraper.scrape()\n",
    "scraper.visualize(df)"
   ]
  }
 ],
 "metadata": {
  "kernelspec": {
   "display_name": "base",
   "language": "python",
   "name": "python3"
  },
  "language_info": {
   "codemirror_mode": {
    "name": "ipython",
    "version": 3
   },
   "file_extension": ".py",
   "mimetype": "text/x-python",
   "name": "python",
   "nbconvert_exporter": "python",
   "pygments_lexer": "ipython3",
   "version": "3.9.16"
  },
  "orig_nbformat": 4
 },
 "nbformat": 4,
 "nbformat_minor": 2
}
